{
 "cells": [
  {
   "cell_type": "code",
   "execution_count": 2,
   "metadata": {},
   "outputs": [
    {
     "name": "stdout",
     "output_type": "stream",
     "text": [
      "Overwriting Convolution3D.py\n"
     ]
    }
   ],
   "source": [
    "%%file Convolution3D.py\n",
    "import torch\n",
    "import torch.nn.functional as F\n",
    "import numpy as np\n",
    "\n",
    "def cv3d(in_channels, out_channels, kernel_size, stride=1, padding=0, dilation=1, groups=1, bias=True, padding_mode='zeros'):\n",
    "    def convolution3d(input_m):\n",
    "        if bias:\n",
    "            value_b = torch.rand(out_channels)\n",
    "        else:\n",
    "            value_b = torch.zeros(out_channels)\n",
    "\n",
    "        # Проверяем правила для свертки с группами\n",
    "        assert in_channels % groups == 0\n",
    "        assert out_channels % groups == 0\n",
    "\n",
    "        if padding_mode == 'zeros':\n",
    "            input_m = F.pad(input_m, (padding, padding, padding, padding), mode='constant', value=0)\n",
    "        elif padding_mode == 'reflect':\n",
    "            input_m = F.pad(input_m, (padding, padding, padding, padding), mode='reflect')\n",
    "        elif padding_mode == 'replicate':\n",
    "            input_m = F.pad(input_m, (padding, padding, padding, padding), mode='replicate')\n",
    "        elif padding_mode == 'circular':\n",
    "            input_m = circular_pad(input_m, padding)\n",
    "        else:\n",
    "            raise ValueError(\"Unsupported padding_mode\")\n",
    "\n",
    "        if type(kernel_size) == tuple:\n",
    "            filter = torch.rand(out_channels, in_channels // groups, kernel_size[0], kernel_size[1], kernel_size[2])\n",
    "        if type(kernel_size) == int:\n",
    "            filter = torch.rand(out_channels, in_channels // groups, kernel_size, kernel_size, kernel_size)\n",
    "        else:\n",
    "            raise ValueError(\"Unsupported kernel_size type\")\n",
    "\n",
    "        out_tensor = []\n",
    "        for l in range(out_channels):\n",
    "            f = np.array([])\n",
    "            for i in range (0, input_m.shape[1] - ((filter.shape[2]-1) * dilation + 1) + 1, stride):\n",
    "                for j in range (0, input_m.shape[2] - ((filter.shape[3]-1) * dilation + 1) + 1, stride):\n",
    "                    for k in range(0, input_m.shape[3] - ((filter.shape[4]-1) * dilation + 1) + 1, stride):\n",
    "                        s = 0\n",
    "                        for c in range (in_channels//groups):\n",
    "                            if groups > 1:\n",
    "                                val = input_m[l * (in_channels//groups) + c][i:i + (filter.shape[2]-1) * dilation + 1:dilation, j:j + (filter.shape[3]-1) * dilation + 1:dilation, k:k+(filter.shape[4]-1)*dilation+1:dilation]\n",
    "                            else:\n",
    "                                val = input_m[c][i:i + (filter.shape[2]-1) * dilation + 1:dilation, j:j + (filter.shape[3] - 1) * dilation + 1:dilation, k:k+(filter.shape[4]-1)*dilation+1:dilation]\n",
    "                            mini_sum = (val * filter[l][c]).sum()\n",
    "                            s += mini_sum\n",
    "                        f = np.append(f, float(s + value_b[l]))\n",
    "            out_tensor.append(torch.tensor(f, dtype=torch.float).view(1, 1, -1))\n",
    "        return np.array(out_tensor), torch.tensor(np.array(filter)), torch.tensor(np.array(value_b))\n",
    "    return convolution3d\n"
   ]
  },
  {
   "cell_type": "code",
   "execution_count": 9,
   "metadata": {},
   "outputs": [
    {
     "name": "stdout",
     "output_type": "stream",
     "text": [
      "Overwriting test_convolution3d.py\n"
     ]
    }
   ],
   "source": [
    "%%file test_convolution3d.py\n",
    "import unittest\n",
    "import torch\n",
    "from Convolution3D import cv3d\n",
    "import torch.nn as nn\n",
    "\n",
    "class TestConvolution3D(unittest.TestCase):\n",
    "    def test_cv3d_1(self):\n",
    "        tensor = torch.rand(8, 5, 6, 6)\n",
    "\n",
    "        Convolution3D = cv3d(in_channels=8, out_channels=4, kernel_size=3, stride=1, padding=0, dilation=1, groups=4, bias=True, padding_mode='zeros')\n",
    "        result, kernel_size, bias = Convolution3D(tensor)\n",
    "        torchFunction = nn.Conv3d(in_channels=8, out_channels=4, kernel_size=3, stride=1, padding=0, dilation=1, groups=4, bias=True, padding_mode='zeros')\n",
    "        torchFunction.weight.data = torch.tensor(kernel_size)\n",
    "        torchFunction.bias.data = torch.tensor(bias)\n",
    "\n",
    "    def test_cv3d_2(self):\n",
    "        tensor = torch.rand(4, 5, 5, 5)\n",
    "\n",
    "        Convolution3D = cv3d(in_channels=4, out_channels=2, kernel_size=3, stride=2, padding=2, dilation=1, groups=2, bias=True, padding_mode='reflect')\n",
    "        result, kernel_size, bias = Convolution3D(tensor)\n",
    "        torchFunction = nn.Conv3d(in_channels=4, out_channels=2, kernel_size=3, stride=2, padding=2, dilation=1, groups=2, bias=True, padding_mode='reflect')\n",
    "        torchFunction.weight.data = torch.tensor(kernel_size)\n",
    "        torchFunction.bias.data = torch.tensor(bias)\n",
    "\n",
    "    def test_cv3d_3(self):\n",
    "        tensor = torch.rand(2, 2, 2, 2)\n",
    "\n",
    "        Convolution3D = cv3d(in_channels=2, out_channels=2, kernel_size=2, stride=2, padding=0, dilation=1, groups=2, bias=True, padding_mode='zeros')\n",
    "        result, kernel_size, bias = Convolution3D(tensor)\n",
    "        torchFunction = nn.Conv3d(in_channels=2, out_channels=2, kernel_size=2, stride=2, padding=0, dilation=1, groups=2, bias=True, padding_mode='zeros')\n",
    "        torchFunction.weight.data = torch.tensor(kernel_size)\n",
    "        torchFunction.bias.data = torch.tensor(bias)"
   ]
  },
  {
   "cell_type": "code",
   "execution_count": 10,
   "metadata": {},
   "outputs": [
    {
     "name": "stderr",
     "output_type": "stream",
     "text": [
      "d:\\SMZ\\lab2\\Convolution3D.py:50: FutureWarning: The input object of type 'Tensor' is an array-like implementing one of the corresponding protocols (`__array__`, `__array_interface__` or `__array_struct__`); but not a sequence (or 0-D). In the future, this object will be coerced as if it was first converted using `np.array(obj)`. To retain the old behaviour, you have to either modify the type 'Tensor', or assign to an empty array created with `np.empty(correct_shape, dtype=object)`.\n",
      "  return np.array(out_tensor), torch.tensor(np.array(filter)), torch.tensor(np.array(value_b))\n",
      "d:\\SMZ\\lab2\\Convolution3D.py:50: VisibleDeprecationWarning: Creating an ndarray from ragged nested sequences (which is a list-or-tuple of lists-or-tuples-or ndarrays with different lengths or shapes) is deprecated. If you meant to do this, you must specify 'dtype=object' when creating the ndarray.\n",
      "  return np.array(out_tensor), torch.tensor(np.array(filter)), torch.tensor(np.array(value_b))\n",
      "d:\\SMZ\\lab2\\test_convolution3d.py:14: UserWarning: To copy construct from a tensor, it is recommended to use sourceTensor.clone().detach() or sourceTensor.clone().detach().requires_grad_(True), rather than torch.tensor(sourceTensor).\n",
      "  torchFunction.weight.data = torch.tensor(kernel_size)\n",
      "d:\\SMZ\\lab2\\test_convolution3d.py:15: UserWarning: To copy construct from a tensor, it is recommended to use sourceTensor.clone().detach() or sourceTensor.clone().detach().requires_grad_(True), rather than torch.tensor(sourceTensor).\n",
      "  torchFunction.bias.data = torch.tensor(bias)\n",
      ".d:\\SMZ\\lab2\\test_convolution3d.py:23: UserWarning: To copy construct from a tensor, it is recommended to use sourceTensor.clone().detach() or sourceTensor.clone().detach().requires_grad_(True), rather than torch.tensor(sourceTensor).\n",
      "  torchFunction.weight.data = torch.tensor(kernel_size)\n",
      "d:\\SMZ\\lab2\\test_convolution3d.py:24: UserWarning: To copy construct from a tensor, it is recommended to use sourceTensor.clone().detach() or sourceTensor.clone().detach().requires_grad_(True), rather than torch.tensor(sourceTensor).\n",
      "  torchFunction.bias.data = torch.tensor(bias)\n",
      ".d:\\SMZ\\lab2\\test_convolution3d.py:32: UserWarning: To copy construct from a tensor, it is recommended to use sourceTensor.clone().detach() or sourceTensor.clone().detach().requires_grad_(True), rather than torch.tensor(sourceTensor).\n",
      "  torchFunction.weight.data = torch.tensor(kernel_size)\n",
      "d:\\SMZ\\lab2\\test_convolution3d.py:33: UserWarning: To copy construct from a tensor, it is recommended to use sourceTensor.clone().detach() or sourceTensor.clone().detach().requires_grad_(True), rather than torch.tensor(sourceTensor).\n",
      "  torchFunction.bias.data = torch.tensor(bias)\n",
      ".\n",
      "----------------------------------------------------------------------\n",
      "Ran 3 tests in 0.086s\n",
      "\n",
      "OK\n"
     ]
    }
   ],
   "source": [
    "!python -m unittest test_convolution3d.py"
   ]
  }
 ],
 "metadata": {
  "kernelspec": {
   "display_name": "base",
   "language": "python",
   "name": "python3"
  },
  "language_info": {
   "codemirror_mode": {
    "name": "ipython",
    "version": 3
   },
   "file_extension": ".py",
   "mimetype": "text/x-python",
   "name": "python",
   "nbconvert_exporter": "python",
   "pygments_lexer": "ipython3",
   "version": "3.9.16"
  }
 },
 "nbformat": 4,
 "nbformat_minor": 2
}
