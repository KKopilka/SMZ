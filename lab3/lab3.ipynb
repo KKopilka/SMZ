{
 "cells": [
  {
   "cell_type": "code",
   "execution_count": 69,
   "metadata": {},
   "outputs": [
    {
     "name": "stdout",
     "output_type": "stream",
     "text": [
      "Overwriting Conv_transpose2d.py\n"
     ]
    }
   ],
   "source": [
    "%%file Conv_transpose2d.py\n",
    "import torch\n",
    "import torch.nn.functional as F\n",
    "import numpy as np\n",
    "\n",
    "def conv_transpose2d(in_channels, out_channels, kernel_size, stride=1, padding=0, output_padding=0, dilation=1, bias=True, padding_mode='zeros'):\n",
    "    def convolution_transpose2d(input_m):\n",
    "        if bias:\n",
    "            value_b = torch.rand(out_channels)\n",
    "        else:\n",
    "            value_b = torch.zeros(out_channels)\n",
    "\n",
    "        if padding_mode == 'reflect' or padding_mode == 'replicate' or padding_mode == 'circular':\n",
    "            raise ValueError(\"Unsupported padding_mode\")\n",
    "\n",
    "        if type(kernel_size) == tuple:\n",
    "            filter = torch.rand(in_channels, out_channels, kernel_size[0], kernel_size[1])\n",
    "        elif type(kernel_size) == int:\n",
    "            filter = torch.rand(in_channels, out_channels, kernel_size, kernel_size)\n",
    "        else:\n",
    "            raise ValueError(\"Unsupported kernel_size type\")\n",
    "\n",
    "        out_tensor = []\n",
    "        for l in range(out_channels):\n",
    "            f = torch.zeros((input_m.shape[1] - 1) * stride + dilation * (kernel_size - 1) + 1, (input_m.shape[2] - 1) * stride + dilation * (kernel_size - 1) + 1)\n",
    "            for k in range (in_channels):\n",
    "                for i in range (0, input_m.shape[1]): \n",
    "                    for j in range (0, input_m.shape[2]):\n",
    "                        val = input_m[k][i][j]\n",
    "                        proizv = val * filter[k][l]\n",
    "                        zero_tensor = torch.zeros((filter.shape[2] - 1) * dilation + 1, (filter.shape[3] - 1) * dilation + 1)\n",
    "                        for t in range (0, zero_tensor.shape[0], dilation):\n",
    "                            for p in range (0, zero_tensor.shape[1], dilation):\n",
    "                                zero_tensor[t][p] = proizv[t // dilation][p // dilation]\n",
    "                        result_tensor = np.add((zero_tensor), f[i * stride:i * stride + (filter.shape[2] - 1) * dilation+1, j * stride:j * stride + (filter.shape[3] - 1) * dilation + 1])\n",
    "                        f[i * stride:i * stride + (filter.shape[2] - 1) * dilation + 1, j * stride:j * stride + (filter.shape[3] - 1) * dilation + 1] = result_tensor\n",
    "            out_tensor.append(np.add(f, np.full((f.shape), value_b[l])))\n",
    "        for q in range(len(out_tensor)):\n",
    "            if output_padding > 0:\n",
    "                # Pad along the second dimension (columns)\n",
    "                out_tensor[q] = torch.cat([torch.zeros(out_tensor[q].shape[0], output_padding), out_tensor[q], torch.zeros(out_tensor[q].shape[0], output_padding)], dim=1)\n",
    "                # Pad along the first dimension (rows)\n",
    "                out_tensor[q] = torch.cat([torch.zeros(output_padding, out_tensor[q].shape[1]), out_tensor[q], torch.zeros(output_padding, out_tensor[q].shape[1])], dim=0)\n",
    "            out_tensor[q] = out_tensor[q][padding:out_tensor[q].shape[0] - padding, padding:out_tensor[q].shape[1] - padding]\n",
    "\n",
    "        return out_tensor, filter, torch.tensor(value_b)\n",
    "    return convolution_transpose2d"
   ]
  },
  {
   "cell_type": "code",
   "execution_count": 76,
   "metadata": {},
   "outputs": [
    {
     "name": "stdout",
     "output_type": "stream",
     "text": [
      "Overwriting test_conv_transpose2d.py\n"
     ]
    }
   ],
   "source": [
    "%%file test_conv_transpose2d.py\n",
    "import unittest\n",
    "import torch\n",
    "import torch.nn as nn\n",
    "from Conv_transpose2d import conv_transpose2d\n",
    "\n",
    "class TestConvolutionTranspose2D(unittest.TestCase):\n",
    "    def test_conv_transpose2d_1(self):\n",
    "        tensor = torch.rand(8, 5, 6)\n",
    "\n",
    "        ConvTranspose2D = conv_transpose2d(in_channels=8, out_channels=4, kernel_size=3, stride=1, padding=0, output_padding=0, bias=True, dilation=1, padding_mode='zeros')\n",
    "        result, kernel_size, bias = ConvTranspose2D(tensor)\n",
    "        \n",
    "        torchFunction = nn.ConvTranspose2d(in_channels=8, out_channels=4, kernel_size=3, stride=1, padding=0, output_padding=0, bias=True, dilation=1, padding_mode='zeros')\n",
    "        torchFunction.weight.data = torch.tensor(kernel_size)\n",
    "        torchFunction.bias.data = torch.tensor(bias)\n",
    "\n",
    "    def test_conv_transpose2d_2(self):\n",
    "        tensor = torch.rand(4, 5, 5)\n",
    "\n",
    "        ConvTranspose2D = conv_transpose2d(in_channels=4, out_channels=2, kernel_size=3, stride=2, padding=2, output_padding=0, bias=True, dilation=1, padding_mode='zeros')\n",
    "        result, kernel_size, bias = ConvTranspose2D(tensor)\n",
    "        \n",
    "        torchFunction = nn.ConvTranspose2d(in_channels=4, out_channels=2, kernel_size=3, stride=2, padding=2, output_padding=0, bias=True, dilation=1, padding_mode='zeros')\n",
    "        torchFunction.weight.data = torch.tensor(kernel_size)\n",
    "        torchFunction.bias.data = torch.tensor(bias)\n",
    "\n",
    "    def test_conv_transpose2d_3(self):\n",
    "        tensor = torch.rand(2, 2, 2)\n",
    "\n",
    "        ConvTranspose2D = conv_transpose2d(in_channels=2, out_channels=2, kernel_size=2, stride=2, padding=0, output_padding=0, bias=True, dilation=1, padding_mode='zeros')\n",
    "        result, kernel_size, bias = ConvTranspose2D(tensor)\n",
    "        \n",
    "        torchFunction = nn.ConvTranspose2d(in_channels=2, out_channels=2, kernel_size=2, stride=2, padding=0, output_padding=0, bias=True, dilation=1, padding_mode='zeros')\n",
    "        torchFunction.weight.data = torch.tensor(kernel_size)\n",
    "        torchFunction.bias.data = torch.tensor(bias)"
   ]
  },
  {
   "cell_type": "code",
   "execution_count": 77,
   "metadata": {},
   "outputs": [
    {
     "name": "stderr",
     "output_type": "stream",
     "text": [
      "d:\\SMZ\\lab3\\Conv_transpose2d.py:45: UserWarning: To copy construct from a tensor, it is recommended to use sourceTensor.clone().detach() or sourceTensor.clone().detach().requires_grad_(True), rather than torch.tensor(sourceTensor).\n",
      "  return out_tensor, filter, torch.tensor(value_b)\n",
      "d:\\SMZ\\lab3\\test_conv_transpose2d.py:14: UserWarning: To copy construct from a tensor, it is recommended to use sourceTensor.clone().detach() or sourceTensor.clone().detach().requires_grad_(True), rather than torch.tensor(sourceTensor).\n",
      "  torchFunction.weight.data = torch.tensor(kernel_size)\n",
      "d:\\SMZ\\lab3\\test_conv_transpose2d.py:15: UserWarning: To copy construct from a tensor, it is recommended to use sourceTensor.clone().detach() or sourceTensor.clone().detach().requires_grad_(True), rather than torch.tensor(sourceTensor).\n",
      "  torchFunction.bias.data = torch.tensor(bias)\n",
      ".d:\\SMZ\\lab3\\test_conv_transpose2d.py:24: UserWarning: To copy construct from a tensor, it is recommended to use sourceTensor.clone().detach() or sourceTensor.clone().detach().requires_grad_(True), rather than torch.tensor(sourceTensor).\n",
      "  torchFunction.weight.data = torch.tensor(kernel_size)\n",
      "d:\\SMZ\\lab3\\test_conv_transpose2d.py:25: UserWarning: To copy construct from a tensor, it is recommended to use sourceTensor.clone().detach() or sourceTensor.clone().detach().requires_grad_(True), rather than torch.tensor(sourceTensor).\n",
      "  torchFunction.bias.data = torch.tensor(bias)\n",
      ".d:\\SMZ\\lab3\\test_conv_transpose2d.py:34: UserWarning: To copy construct from a tensor, it is recommended to use sourceTensor.clone().detach() or sourceTensor.clone().detach().requires_grad_(True), rather than torch.tensor(sourceTensor).\n",
      "  torchFunction.weight.data = torch.tensor(kernel_size)\n",
      "d:\\SMZ\\lab3\\test_conv_transpose2d.py:35: UserWarning: To copy construct from a tensor, it is recommended to use sourceTensor.clone().detach() or sourceTensor.clone().detach().requires_grad_(True), rather than torch.tensor(sourceTensor).\n",
      "  torchFunction.bias.data = torch.tensor(bias)\n",
      ".\n",
      "----------------------------------------------------------------------\n",
      "Ran 3 tests in 0.324s\n",
      "\n",
      "OK\n"
     ]
    }
   ],
   "source": [
    "!python -m unittest test_conv_transpose2d.py"
   ]
  }
 ],
 "metadata": {
  "kernelspec": {
   "display_name": "base",
   "language": "python",
   "name": "python3"
  },
  "language_info": {
   "codemirror_mode": {
    "name": "ipython",
    "version": 3
   },
   "file_extension": ".py",
   "mimetype": "text/x-python",
   "name": "python",
   "nbconvert_exporter": "python",
   "pygments_lexer": "ipython3",
   "version": "3.9.16"
  }
 },
 "nbformat": 4,
 "nbformat_minor": 2
}
